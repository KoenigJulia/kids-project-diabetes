{
 "cells": [
  {
   "cell_type": "code",
   "execution_count": null,
   "id": "45b4457c",
   "metadata": {},
   "outputs": [],
   "source": [
    "diabetes['Outcome'].value_counts()"
   ]
  },
  {
   "cell_type": "code",
   "execution_count": null,
   "id": "4d987350",
   "metadata": {},
   "outputs": [],
   "source": [
    "diabetes['Outcome'].value_counts().plot(kind='pie')"
   ]
  },
  {
   "cell_type": "code",
   "execution_count": null,
   "id": "b93d4e30",
   "metadata": {},
   "outputs": [],
   "source": [
    "from sklearn.tree import DecisionTreeClassifier\n",
    "from sklearn.model_selection import train_test_split\n",
    "from sklearn import metrics"
   ]
  },
  {
   "cell_type": "code",
   "execution_count": null,
   "id": "0c1a2fbe",
   "metadata": {},
   "outputs": [],
   "source": [
    "X = diabetes[diabetes.columns[:-1]]\n",
    "y = diabetes['Outcome']\n",
    "\n",
    "train_X, test_X, train_y, test_y = train_test_split(X, y, random_state=33, stratify=y)\n",
    "\n",
    "dt_model = DecisionTreeClassifier(random_state=33)\n",
    "dt_model.fit(train_X, train_y)\n",
    "\n",
    "pred_y = dt_model.predict(test_X)\n",
    "\n",
    "accuracy_score = metrics.accuracy_score(test_y, pred_y)\n",
    "print('Accuracy: {:.2%}'.format(accuracy_score))"
   ]
  },
  {
   "cell_type": "code",
   "execution_count": null,
   "id": "9b72b8c3",
   "metadata": {},
   "outputs": [],
   "source": [
    "from sklearn.metrics import confusion_matrix\n",
    "from sklearn.metrics import ConfusionMatrixDisplay"
   ]
  },
  {
   "cell_type": "code",
   "execution_count": null,
   "id": "d1d7b7e1",
   "metadata": {},
   "outputs": [],
   "source": [
    "cm = confusion_matrix(test_y, pred_y)                   \n",
    "cm_display = ConfusionMatrixDisplay(cm)\n",
    "cm_display.plot()"
   ]
  },
  {
   "cell_type": "code",
   "execution_count": null,
   "id": "d6a313b9",
   "metadata": {},
   "outputs": [],
   "source": []
  }
 ],
 "metadata": {
  "kernelspec": {
   "display_name": "Python 3 (ipykernel)",
   "language": "python",
   "name": "python3"
  },
  "language_info": {
   "codemirror_mode": {
    "name": "ipython",
    "version": 3
   },
   "file_extension": ".py",
   "mimetype": "text/x-python",
   "name": "python",
   "nbconvert_exporter": "python",
   "pygments_lexer": "ipython3",
   "version": "3.10.6"
  }
 },
 "nbformat": 4,
 "nbformat_minor": 5
}
