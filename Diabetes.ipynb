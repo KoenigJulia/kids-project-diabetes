{
 "cells": [
  {
   "cell_type": "markdown",
   "id": "d98b14e3",
   "metadata": {},
   "source": [
    "# Daten analysieren"
   ]
  },
  {
   "cell_type": "code",
   "execution_count": 1,
   "id": "17742c72",
   "metadata": {},
   "outputs": [],
   "source": [
    "import pandas as pd\n",
    "from sklearn.impute import SimpleImputer\n",
    "from sklearn.tree import DecisionTreeClassifier\n",
    "from sklearn.model_selection import train_test_split\n",
    "from sklearn import metrics\n",
    "import matplotlib.pyplot as plt\n",
    "import seaborn as sns\n",
    "import imblearn\n",
    "from sklearn.metrics import confusion_matrix\n",
    "from sklearn.metrics import ConfusionMatrixDisplay\n",
    "from sklearn.ensemble import RandomForestClassifier\n",
    "\n",
    "my_random_state = 10"
   ]
  },
  {
   "cell_type": "code",
   "execution_count": 2,
   "id": "24810221",
   "metadata": {},
   "outputs": [
    {
     "data": {
      "text/html": [
       "<div>\n",
       "<style scoped>\n",
       "    .dataframe tbody tr th:only-of-type {\n",
       "        vertical-align: middle;\n",
       "    }\n",
       "\n",
       "    .dataframe tbody tr th {\n",
       "        vertical-align: top;\n",
       "    }\n",
       "\n",
       "    .dataframe thead th {\n",
       "        text-align: right;\n",
       "    }\n",
       "</style>\n",
       "<table border=\"1\" class=\"dataframe\">\n",
       "  <thead>\n",
       "    <tr style=\"text-align: right;\">\n",
       "      <th></th>\n",
       "      <th>Pregnancies</th>\n",
       "      <th>Glucose</th>\n",
       "      <th>BloodPressure</th>\n",
       "      <th>SkinThickness</th>\n",
       "      <th>Insulin</th>\n",
       "      <th>BMI</th>\n",
       "      <th>DiabetesPedigreeFunction</th>\n",
       "      <th>Age</th>\n",
       "      <th>Outcome</th>\n",
       "    </tr>\n",
       "  </thead>\n",
       "  <tbody>\n",
       "    <tr>\n",
       "      <th>456</th>\n",
       "      <td>1</td>\n",
       "      <td>135</td>\n",
       "      <td>54</td>\n",
       "      <td>0</td>\n",
       "      <td>0</td>\n",
       "      <td>26.7</td>\n",
       "      <td>0.687</td>\n",
       "      <td>62</td>\n",
       "      <td>0</td>\n",
       "    </tr>\n",
       "    <tr>\n",
       "      <th>260</th>\n",
       "      <td>3</td>\n",
       "      <td>191</td>\n",
       "      <td>68</td>\n",
       "      <td>15</td>\n",
       "      <td>130</td>\n",
       "      <td>30.9</td>\n",
       "      <td>0.299</td>\n",
       "      <td>34</td>\n",
       "      <td>0</td>\n",
       "    </tr>\n",
       "    <tr>\n",
       "      <th>651</th>\n",
       "      <td>1</td>\n",
       "      <td>117</td>\n",
       "      <td>60</td>\n",
       "      <td>23</td>\n",
       "      <td>106</td>\n",
       "      <td>33.8</td>\n",
       "      <td>0.466</td>\n",
       "      <td>27</td>\n",
       "      <td>0</td>\n",
       "    </tr>\n",
       "    <tr>\n",
       "      <th>143</th>\n",
       "      <td>10</td>\n",
       "      <td>108</td>\n",
       "      <td>66</td>\n",
       "      <td>0</td>\n",
       "      <td>0</td>\n",
       "      <td>32.4</td>\n",
       "      <td>0.272</td>\n",
       "      <td>42</td>\n",
       "      <td>1</td>\n",
       "    </tr>\n",
       "    <tr>\n",
       "      <th>666</th>\n",
       "      <td>4</td>\n",
       "      <td>145</td>\n",
       "      <td>82</td>\n",
       "      <td>18</td>\n",
       "      <td>0</td>\n",
       "      <td>32.5</td>\n",
       "      <td>0.235</td>\n",
       "      <td>70</td>\n",
       "      <td>1</td>\n",
       "    </tr>\n",
       "    <tr>\n",
       "      <th>390</th>\n",
       "      <td>1</td>\n",
       "      <td>100</td>\n",
       "      <td>66</td>\n",
       "      <td>29</td>\n",
       "      <td>196</td>\n",
       "      <td>32.0</td>\n",
       "      <td>0.444</td>\n",
       "      <td>42</td>\n",
       "      <td>0</td>\n",
       "    </tr>\n",
       "    <tr>\n",
       "      <th>591</th>\n",
       "      <td>2</td>\n",
       "      <td>112</td>\n",
       "      <td>78</td>\n",
       "      <td>50</td>\n",
       "      <td>140</td>\n",
       "      <td>39.4</td>\n",
       "      <td>0.175</td>\n",
       "      <td>24</td>\n",
       "      <td>0</td>\n",
       "    </tr>\n",
       "    <tr>\n",
       "      <th>77</th>\n",
       "      <td>5</td>\n",
       "      <td>95</td>\n",
       "      <td>72</td>\n",
       "      <td>33</td>\n",
       "      <td>0</td>\n",
       "      <td>37.7</td>\n",
       "      <td>0.370</td>\n",
       "      <td>27</td>\n",
       "      <td>0</td>\n",
       "    </tr>\n",
       "    <tr>\n",
       "      <th>414</th>\n",
       "      <td>0</td>\n",
       "      <td>138</td>\n",
       "      <td>60</td>\n",
       "      <td>35</td>\n",
       "      <td>167</td>\n",
       "      <td>34.6</td>\n",
       "      <td>0.534</td>\n",
       "      <td>21</td>\n",
       "      <td>1</td>\n",
       "    </tr>\n",
       "    <tr>\n",
       "      <th>494</th>\n",
       "      <td>3</td>\n",
       "      <td>80</td>\n",
       "      <td>0</td>\n",
       "      <td>0</td>\n",
       "      <td>0</td>\n",
       "      <td>0.0</td>\n",
       "      <td>0.174</td>\n",
       "      <td>22</td>\n",
       "      <td>0</td>\n",
       "    </tr>\n",
       "  </tbody>\n",
       "</table>\n",
       "</div>"
      ],
      "text/plain": [
       "     Pregnancies  Glucose  BloodPressure  SkinThickness  Insulin   BMI  \\\n",
       "456            1      135             54              0        0  26.7   \n",
       "260            3      191             68             15      130  30.9   \n",
       "651            1      117             60             23      106  33.8   \n",
       "143           10      108             66              0        0  32.4   \n",
       "666            4      145             82             18        0  32.5   \n",
       "390            1      100             66             29      196  32.0   \n",
       "591            2      112             78             50      140  39.4   \n",
       "77             5       95             72             33        0  37.7   \n",
       "414            0      138             60             35      167  34.6   \n",
       "494            3       80              0              0        0   0.0   \n",
       "\n",
       "     DiabetesPedigreeFunction  Age  Outcome  \n",
       "456                     0.687   62        0  \n",
       "260                     0.299   34        0  \n",
       "651                     0.466   27        0  \n",
       "143                     0.272   42        1  \n",
       "666                     0.235   70        1  \n",
       "390                     0.444   42        0  \n",
       "591                     0.175   24        0  \n",
       "77                      0.370   27        0  \n",
       "414                     0.534   21        1  \n",
       "494                     0.174   22        0  "
      ]
     },
     "execution_count": 2,
     "metadata": {},
     "output_type": "execute_result"
    }
   ],
   "source": [
    "diabetes_data = pd.read_csv('diabetes.csv')\n",
    "diabetes_data.sample(10, random_state = 9)"
   ]
  },
  {
   "cell_type": "code",
   "execution_count": 3,
   "id": "fe0b8b55",
   "metadata": {},
   "outputs": [
    {
     "data": {
      "text/html": [
       "<div>\n",
       "<style scoped>\n",
       "    .dataframe tbody tr th:only-of-type {\n",
       "        vertical-align: middle;\n",
       "    }\n",
       "\n",
       "    .dataframe tbody tr th {\n",
       "        vertical-align: top;\n",
       "    }\n",
       "\n",
       "    .dataframe thead th {\n",
       "        text-align: right;\n",
       "    }\n",
       "</style>\n",
       "<table border=\"1\" class=\"dataframe\">\n",
       "  <thead>\n",
       "    <tr style=\"text-align: right;\">\n",
       "      <th></th>\n",
       "      <th>Pregnancies</th>\n",
       "      <th>Glucose</th>\n",
       "      <th>BloodPressure</th>\n",
       "      <th>SkinThickness</th>\n",
       "      <th>Insulin</th>\n",
       "      <th>BMI</th>\n",
       "      <th>DiabetesPedigreeFunction</th>\n",
       "      <th>Age</th>\n",
       "      <th>Outcome</th>\n",
       "    </tr>\n",
       "  </thead>\n",
       "  <tbody>\n",
       "    <tr>\n",
       "      <th>count</th>\n",
       "      <td>768.000000</td>\n",
       "      <td>768.000000</td>\n",
       "      <td>768.000000</td>\n",
       "      <td>768.000000</td>\n",
       "      <td>768.000000</td>\n",
       "      <td>768.000000</td>\n",
       "      <td>768.000000</td>\n",
       "      <td>768.000000</td>\n",
       "      <td>768.000000</td>\n",
       "    </tr>\n",
       "    <tr>\n",
       "      <th>mean</th>\n",
       "      <td>3.845052</td>\n",
       "      <td>120.894531</td>\n",
       "      <td>69.105469</td>\n",
       "      <td>20.536458</td>\n",
       "      <td>79.799479</td>\n",
       "      <td>31.992578</td>\n",
       "      <td>0.471876</td>\n",
       "      <td>33.240885</td>\n",
       "      <td>0.348958</td>\n",
       "    </tr>\n",
       "    <tr>\n",
       "      <th>std</th>\n",
       "      <td>3.369578</td>\n",
       "      <td>31.972618</td>\n",
       "      <td>19.355807</td>\n",
       "      <td>15.952218</td>\n",
       "      <td>115.244002</td>\n",
       "      <td>7.884160</td>\n",
       "      <td>0.331329</td>\n",
       "      <td>11.760232</td>\n",
       "      <td>0.476951</td>\n",
       "    </tr>\n",
       "    <tr>\n",
       "      <th>min</th>\n",
       "      <td>0.000000</td>\n",
       "      <td>0.000000</td>\n",
       "      <td>0.000000</td>\n",
       "      <td>0.000000</td>\n",
       "      <td>0.000000</td>\n",
       "      <td>0.000000</td>\n",
       "      <td>0.078000</td>\n",
       "      <td>21.000000</td>\n",
       "      <td>0.000000</td>\n",
       "    </tr>\n",
       "    <tr>\n",
       "      <th>25%</th>\n",
       "      <td>1.000000</td>\n",
       "      <td>99.000000</td>\n",
       "      <td>62.000000</td>\n",
       "      <td>0.000000</td>\n",
       "      <td>0.000000</td>\n",
       "      <td>27.300000</td>\n",
       "      <td>0.243750</td>\n",
       "      <td>24.000000</td>\n",
       "      <td>0.000000</td>\n",
       "    </tr>\n",
       "    <tr>\n",
       "      <th>50%</th>\n",
       "      <td>3.000000</td>\n",
       "      <td>117.000000</td>\n",
       "      <td>72.000000</td>\n",
       "      <td>23.000000</td>\n",
       "      <td>30.500000</td>\n",
       "      <td>32.000000</td>\n",
       "      <td>0.372500</td>\n",
       "      <td>29.000000</td>\n",
       "      <td>0.000000</td>\n",
       "    </tr>\n",
       "    <tr>\n",
       "      <th>75%</th>\n",
       "      <td>6.000000</td>\n",
       "      <td>140.250000</td>\n",
       "      <td>80.000000</td>\n",
       "      <td>32.000000</td>\n",
       "      <td>127.250000</td>\n",
       "      <td>36.600000</td>\n",
       "      <td>0.626250</td>\n",
       "      <td>41.000000</td>\n",
       "      <td>1.000000</td>\n",
       "    </tr>\n",
       "    <tr>\n",
       "      <th>max</th>\n",
       "      <td>17.000000</td>\n",
       "      <td>199.000000</td>\n",
       "      <td>122.000000</td>\n",
       "      <td>99.000000</td>\n",
       "      <td>846.000000</td>\n",
       "      <td>67.100000</td>\n",
       "      <td>2.420000</td>\n",
       "      <td>81.000000</td>\n",
       "      <td>1.000000</td>\n",
       "    </tr>\n",
       "  </tbody>\n",
       "</table>\n",
       "</div>"
      ],
      "text/plain": [
       "       Pregnancies     Glucose  BloodPressure  SkinThickness     Insulin  \\\n",
       "count   768.000000  768.000000     768.000000     768.000000  768.000000   \n",
       "mean      3.845052  120.894531      69.105469      20.536458   79.799479   \n",
       "std       3.369578   31.972618      19.355807      15.952218  115.244002   \n",
       "min       0.000000    0.000000       0.000000       0.000000    0.000000   \n",
       "25%       1.000000   99.000000      62.000000       0.000000    0.000000   \n",
       "50%       3.000000  117.000000      72.000000      23.000000   30.500000   \n",
       "75%       6.000000  140.250000      80.000000      32.000000  127.250000   \n",
       "max      17.000000  199.000000     122.000000      99.000000  846.000000   \n",
       "\n",
       "              BMI  DiabetesPedigreeFunction         Age     Outcome  \n",
       "count  768.000000                768.000000  768.000000  768.000000  \n",
       "mean    31.992578                  0.471876   33.240885    0.348958  \n",
       "std      7.884160                  0.331329   11.760232    0.476951  \n",
       "min      0.000000                  0.078000   21.000000    0.000000  \n",
       "25%     27.300000                  0.243750   24.000000    0.000000  \n",
       "50%     32.000000                  0.372500   29.000000    0.000000  \n",
       "75%     36.600000                  0.626250   41.000000    1.000000  \n",
       "max     67.100000                  2.420000   81.000000    1.000000  "
      ]
     },
     "execution_count": 3,
     "metadata": {},
     "output_type": "execute_result"
    }
   ],
   "source": [
    "diabetes_data.describe()"
   ]
  },
  {
   "cell_type": "code",
   "execution_count": 4,
   "id": "2d4d821f",
   "metadata": {},
   "outputs": [
    {
     "name": "stdout",
     "output_type": "stream",
     "text": [
      "<class 'pandas.core.frame.DataFrame'>\n",
      "RangeIndex: 768 entries, 0 to 767\n",
      "Data columns (total 9 columns):\n",
      " #   Column                    Non-Null Count  Dtype  \n",
      "---  ------                    --------------  -----  \n",
      " 0   Pregnancies               768 non-null    int64  \n",
      " 1   Glucose                   768 non-null    int64  \n",
      " 2   BloodPressure             768 non-null    int64  \n",
      " 3   SkinThickness             768 non-null    int64  \n",
      " 4   Insulin                   768 non-null    int64  \n",
      " 5   BMI                       768 non-null    float64\n",
      " 6   DiabetesPedigreeFunction  768 non-null    float64\n",
      " 7   Age                       768 non-null    int64  \n",
      " 8   Outcome                   768 non-null    int64  \n",
      "dtypes: float64(2), int64(7)\n",
      "memory usage: 54.1 KB\n"
     ]
    }
   ],
   "source": [
    "diabetes_data.info()"
   ]
  },
  {
   "cell_type": "markdown",
   "id": "beb6731e",
   "metadata": {},
   "source": [
    "## Was fällt auf?\n",
    "* Das Minimum von Glucose, BloodPressure, SkinThicknes, Insulin und BMI ist 0\n",
    "* Erstes Quartal bei SkinThickness und Insulin ist 0\n",
    "* Insulin hat einen maximalen Wert von 846"
   ]
  },
  {
   "cell_type": "code",
   "execution_count": 5,
   "id": "be8dc4e7",
   "metadata": {},
   "outputs": [
    {
     "name": "stdout",
     "output_type": "stream",
     "text": [
      " Pregnancies [111]\n",
      " Glucose [5]\n",
      " BloodPressure [35]\n",
      " SkinThickness [227]\n",
      " Insulin [374]\n",
      " BMI [11]\n",
      " DiabetesPedigreeFunction []\n",
      " Age []\n",
      " Outcome [500]\n"
     ]
    }
   ],
   "source": [
    "zero_count_dict = {}\n",
    "for col in diabetes_data.columns:\n",
    "    print('', col, diabetes_data[col].value_counts()[diabetes_data[col].value_counts().index == 0.0].values)  "
   ]
  },
  {
   "cell_type": "code",
   "execution_count": 6,
   "id": "4531ac26",
   "metadata": {},
   "outputs": [
    {
     "data": {
      "text/plain": [
       "0    500\n",
       "1    268\n",
       "Name: Outcome, dtype: int64"
      ]
     },
     "execution_count": 6,
     "metadata": {},
     "output_type": "execute_result"
    }
   ],
   "source": [
    "diabetes_data['Outcome'].value_counts()"
   ]
  },
  {
   "cell_type": "markdown",
   "id": "37bb3777",
   "metadata": {},
   "source": [
    "# Train-Test-Split"
   ]
  },
  {
   "cell_type": "code",
   "execution_count": 7,
   "id": "06eaf44b",
   "metadata": {
    "scrolled": false
   },
   "outputs": [
    {
     "data": {
      "text/plain": [
       "array([<AxesSubplot: ylabel='0'>], dtype=object)"
      ]
     },
     "execution_count": 7,
     "metadata": {},
     "output_type": "execute_result"
    },
    {
     "data": {
      "image/png": "[encoded data removed]",
      "text/plain": [
       "<Figure size 640x480 with 1 Axes>"
      ]
     },
     "metadata": {},
     "output_type": "display_data"
    }
   ],
   "source": [
    "X = diabetes_data[diabetes_data.columns[:-1]]\n",
    "y = diabetes_data['Outcome']\n",
    "X_train, X_test_full, y_train, y_test_full = train_test_split(X, y, random_state=my_random_state, test_size=0.3, stratify=y)\n",
    "X_val, X_test, y_val, y_test = train_test_split(X_test_full, y_test_full,random_state=my_random_state, test_size=0.5, stratify=y_test_full)\n",
    "\n",
    "pd.DataFrame([len(y_train), len(y_val), len(y_test)], index=['train', 'validation', 'test']).plot(kind='pie', subplots=True)"
   ]
  },
  {
   "cell_type": "code",
   "execution_count": 8,
   "id": "b4ebfc9b",
   "metadata": {},
   "outputs": [
    {
     "data": {
      "text/plain": [
       "<AxesSubplot: title={'center': 'test'}, ylabel='Outcome'>"
      ]
     },
     "execution_count": 8,
     "metadata": {},
     "output_type": "execute_result"
    },
    {
     "data": {
      "image/png": "[encoded data removed]",
      "text/plain": [
       "<Figure size 1200x600 with 3 Axes>"
      ]
     },
     "metadata": {},
     "output_type": "display_data"
    }
   ],
   "source": [
    "fig, (ax1, ax2, ax3) = plt.subplots(1, 3, figsize=(12,6))\n",
    "y_train.value_counts().plot(kind='pie', ax=ax1, title='train')\n",
    "y_val.value_counts().plot(kind='pie', ax=ax2, title='val')\n",
    "y_test.value_counts().plot(kind='pie', ax=ax3, title='test')"
   ]
  },
  {
   "cell_type": "markdown",
   "id": "d28857e9",
   "metadata": {},
   "source": [
    "## Alle 0 Werte entfernen"
   ]
  },
  {
   "cell_type": "code",
   "execution_count": 9,
   "id": "6901b82b",
   "metadata": {
    "scrolled": true
   },
   "outputs": [
    {
     "name": "stdout",
     "output_type": "stream",
     "text": [
      "<class 'pandas.core.frame.DataFrame'>\n",
      "Int64Index: 376 entries, 0 to 767\n",
      "Data columns (total 9 columns):\n",
      " #   Column                    Non-Null Count  Dtype  \n",
      "---  ------                    --------------  -----  \n",
      " 0   Pregnancies               376 non-null    int64  \n",
      " 1   Glucose                   376 non-null    int64  \n",
      " 2   BloodPressure             376 non-null    int64  \n",
      " 3   SkinThickness             376 non-null    int64  \n",
      " 4   Insulin                   376 non-null    int64  \n",
      " 5   BMI                       376 non-null    float64\n",
      " 6   DiabetesPedigreeFunction  376 non-null    float64\n",
      " 7   Age                       376 non-null    int64  \n",
      " 8   Outcome                   376 non-null    int64  \n",
      "dtypes: float64(2), int64(7)\n",
      "memory usage: 29.4 KB\n"
     ]
    }
   ],
   "source": [
    "diabetes_data = pd.read_csv('diabetes.csv')\n",
    "diabetes_data = diabetes_data.drop(diabetes_data[(diabetes_data.Glucose != 0) & (diabetes_data.SkinThickness != 0) & (diabetes_data.BloodPressure != 0) & (diabetes_data.Insulin != 0) & (diabetes_data.BMI != 0)].index)\n",
    "diabetes_data.info()"
   ]
  },
  {
   "cell_type": "markdown",
   "id": "89ff351d",
   "metadata": {},
   "source": [
    "### Fazit\n",
    "Es bleiben nur noch 376 Reihen von 768 über."
   ]
  },
  {
   "cell_type": "code",
   "execution_count": 10,
   "id": "6d07b458",
   "metadata": {},
   "outputs": [
    {
     "data": {
      "text/plain": [
       "Outcome                     1.000000\n",
       "Glucose                     0.426126\n",
       "BMI                         0.329263\n",
       "Pregnancies                 0.183252\n",
       "DiabetesPedigreeFunction    0.151903\n",
       "Age                         0.144370\n",
       "SkinThickness               0.020942\n",
       "BloodPressure               0.008712\n",
       "Insulin                    -0.047941\n",
       "Name: Outcome, dtype: float64"
      ]
     },
     "execution_count": 10,
     "metadata": {},
     "output_type": "execute_result"
    }
   ],
   "source": [
    "correlation = diabetes_data.corr().sort_values('Outcome', ascending=False)\n",
    "correlation['Outcome']"
   ]
  },
  {
   "cell_type": "markdown",
   "id": "a3b8e35b",
   "metadata": {},
   "source": [
    "## Model trainieren"
   ]
  },
  {
   "cell_type": "markdown",
   "id": "a5e789ce",
   "metadata": {},
   "source": [
    "### Spalten mit vielen 0 Werten entfernen und Reihen mit 0 Werte entfernen"
   ]
  },
  {
   "cell_type": "code",
   "execution_count": 11,
   "id": "627c7a2b",
   "metadata": {
    "scrolled": false
   },
   "outputs": [],
   "source": [
    "y_train.drop(columns=['SkinThickness', 'Insulin'], inplace=True)\n",
    "y_train.drop(y_train[X_train.Glucose == 0].index, inplace=True)\n",
    "y_train.drop(y_train[X_train.BloodPressure == 0].index, inplace=True)\n",
    "y_train.drop(y_train[X_train.BMI == 0].index, inplace=True)\n",
    "\n",
    "X_train.drop(columns=['SkinThickness', 'Insulin'], inplace=True)\n",
    "X_train.drop(X_train[X_train.Glucose == 0].index, inplace=True)\n",
    "X_train.drop(X_train[X_train.BloodPressure == 0].index, inplace=True)\n",
    "X_train.drop(X_train[X_train.BMI == 0].index, inplace=True)\n",
    "\n",
    "y_val.drop(columns=['SkinThickness', 'Insulin'], inplace=True)\n",
    "X_val.drop(columns=['SkinThickness', 'Insulin'], inplace=True)\n",
    "\n",
    "\n",
    "y_test.drop(columns=['SkinThickness', 'Insulin'], inplace=True)\n",
    "X_test.drop(columns=['SkinThickness', 'Insulin'], inplace=True)"
   ]
  },
  {
   "cell_type": "markdown",
   "id": "644641d2",
   "metadata": {},
   "source": [
    "#### DummyClassifier"
   ]
  },
  {
   "cell_type": "code",
   "execution_count": 12,
   "id": "2808cba7",
   "metadata": {},
   "outputs": [],
   "source": [
    "from sklearn.dummy import DummyClassifier"
   ]
  },
  {
   "cell_type": "code",
   "execution_count": 13,
   "id": "de3600cd",
   "metadata": {},
   "outputs": [
    {
     "name": "stdout",
     "output_type": "stream",
     "text": [
      "Accuracy: 65.22%\n",
      "Precision: 0.00%\n",
      "Recall: 0.00%\n",
      "F1: 0.00%\n"
     ]
    },
    {
     "name": "stderr",
     "output_type": "stream",
     "text": [
      "/Users/julsen/opt/miniconda3/envs/leoenv/lib/python3.10/site-packages/sklearn/metrics/_classification.py:1334: UndefinedMetricWarning: Precision is ill-defined and being set to 0.0 due to no predicted samples. Use `zero_division` parameter to control this behavior.\n",
      "  _warn_prf(average, modifier, msg_start, len(result))\n"
     ]
    }
   ],
   "source": [
    "dummy_model = DummyClassifier(strategy='most_frequent')\n",
    "dummy_model.fit(X_train, y_train)\n",
    "y_pred = dummy_model.predict(X_val)\n",
    "\n",
    "print('Accuracy: {:.2%}'.format(metrics.accuracy_score(y_val, y_pred)))\n",
    "print('Precision: {:.2%}'.format(metrics.precision_score(y_val, y_pred)))\n",
    "print('Recall: {:.2%}'.format(metrics.recall_score(y_val, y_pred)))\n",
    "print('F1: {:.2%}'.format(metrics.f1_score(y_val, y_pred)))"
   ]
  },
  {
   "cell_type": "markdown",
   "id": "f5412dd4",
   "metadata": {},
   "source": [
    "#### DecisionTreeClassifier"
   ]
  },
  {
   "cell_type": "code",
   "execution_count": 14,
   "id": "d20f6536",
   "metadata": {},
   "outputs": [],
   "source": [
    "def train_and_find_best_depth(X_train, X_val, y_train, y_val, do_print):\n",
    "    result = None\n",
    "    accuracy_max = -1\n",
    "    \n",
    "    for curr_max_depth in range(1, 20):\n",
    "        dt_model = DecisionTreeClassifier(max_depth=curr_max_depth, random_state=my_random_state)\n",
    "        dt_model.fit(X_train, y_train)\n",
    "        y_pred = dt_model.predict(X_val)\n",
    "        accuracy_score = metrics.accuracy_score(y_val, y_pred)\n",
    "        if accuracy_score >= accuracy_max:\n",
    "            accuracy_max = accuracy_score\n",
    "            result = curr_max_depth\n",
    "    if do_print:\n",
    "        print('-' * 20)\n",
    "        print('best max depth {} has {:.2%} accuracy.'.format(result, accuracy_max))\n",
    "\n",
    "    return result"
   ]
  },
  {
   "cell_type": "code",
   "execution_count": 15,
   "id": "254a2ec1",
   "metadata": {},
   "outputs": [
    {
     "name": "stdout",
     "output_type": "stream",
     "text": [
      "--------------------\n",
      "best max depth 3 has 76.52% accuracy.\n"
     ]
    }
   ],
   "source": [
    "best_max_depth = train_and_find_best_depth(X_train, X_val, y_train, y_val, True)"
   ]
  },
  {
   "cell_type": "code",
   "execution_count": 16,
   "id": "1618011b",
   "metadata": {},
   "outputs": [
    {
     "name": "stdout",
     "output_type": "stream",
     "text": [
      "Accuracy: 76.52%\n",
      "Precision: 88.24%\n",
      "Recall: 37.50%\n",
      "F1: 52.63%\n"
     ]
    }
   ],
   "source": [
    "X = diabetes_data[diabetes_data.columns[:-1]]\n",
    "y = diabetes_data['Outcome']\n",
    "\n",
    "dt_model = DecisionTreeClassifier(max_depth=best_max_depth, random_state=my_random_state)\n",
    "dt_model.fit(X_train, y_train)\n",
    "\n",
    "y_pred = dt_model.predict(X_val)\n",
    "\n",
    "print('Accuracy: {:.2%}'.format(metrics.accuracy_score(y_val, y_pred)))\n",
    "print('Precision: {:.2%}'.format(metrics.precision_score(y_val, y_pred)))\n",
    "print('Recall: {:.2%}'.format(metrics.recall_score(y_val, y_pred)))\n",
    "print('F1: {:.2%}'.format(metrics.f1_score(y_val, y_pred)))"
   ]
  },
  {
   "cell_type": "code",
   "execution_count": 17,
   "id": "66409f66",
   "metadata": {},
   "outputs": [
    {
     "data": {
      "text/plain": [
       "<sklearn.metrics._plot.confusion_matrix.ConfusionMatrixDisplay at 0x13c8a1120>"
      ]
     },
     "execution_count": 17,
     "metadata": {},
     "output_type": "execute_result"
    },
    {
     "data": {
      "image/png": "[encoded data removed]",
      "text/plain": [
       "<Figure size 640x480 with 2 Axes>"
      ]
     },
     "metadata": {},
     "output_type": "display_data"
    }
   ],
   "source": [
    "cm = confusion_matrix(y_val, y_pred)                   \n",
    "cm_display = ConfusionMatrixDisplay(cm)\n",
    "cm_display.plot()"
   ]
  },
  {
   "cell_type": "markdown",
   "id": "07287b1d",
   "metadata": {},
   "source": [
    "#### RandomForestClassifier"
   ]
  },
  {
   "cell_type": "code",
   "execution_count": 18,
   "id": "7edc57cf",
   "metadata": {},
   "outputs": [],
   "source": [
    "def train_and_find_best_depth(X_train, X_val, y_train, y_val, do_print):\n",
    "    result = None\n",
    "    recall_max = -1\n",
    "    precision_max = -1\n",
    "    \n",
    "    for curr_max_depth in range(1, 300):\n",
    "        dt_model = RandomForestClassifier(max_depth=curr_max_depth, random_state=my_random_state)\n",
    "        dt_model.fit(X_train, y_train)\n",
    "        y_pred = dt_model.predict(X_val)\n",
    "        recall_score = metrics.recall_score(y_val, y_pred)\n",
    "        precision_score = metrics.precision_score(y_val, y_pred)\n",
    "        if (recall_score >= recall_max) :\n",
    "            recall_max = recall_score\n",
    "            precision_max = precision_score\n",
    "            result = curr_max_depth\n",
    "    if do_print:\n",
    "        print('-' * 20)\n",
    "        print('best max depth {} has {:.2%} recall and has {:.2%} precision.'.format(result, recall_max, precision_max))\n",
    "\n",
    "    return result\n",
    "\n",
    "def train_and_find_best_estimators(X_train, X_val, y_train, y_val, best_max_depth, do_print):\n",
    "    result = None\n",
    "    recall_max = -1\n",
    "    precision_max = -1\n",
    "    \n",
    "    for curr_estimators_depth in range(1, 100):\n",
    "        dt_model = RandomForestClassifier(n_estimators= curr_estimators_depth, max_depth= best_max_depth, random_state=my_random_state)\n",
    "        dt_model.fit(X_train, y_train)\n",
    "        y_pred = dt_model.predict(X_val)\n",
    "        recall_score = metrics.recall_score(y_val, y_pred)\n",
    "        precision_score = metrics.precision_score(y_val, y_pred)\n",
    "        if (recall_score >= recall_max) :\n",
    "            recall_max = recall_score\n",
    "            precision_max = precision_score\n",
    "            result = curr_estimators_depth\n",
    "    if do_print:\n",
    "        print('-' * 20)\n",
    "        print('best max estimators {} has {:.2%} recall and has {:.2%} precision.'.format(result, recall_max, precision_max))\n",
    "        \n",
    "    return result\n",
    "\n",
    "def train_and_find_best_samples_split(X_train, X_val, y_train, y_val, best_max_depth, best_max_esitmators, do_print):\n",
    "    result = None\n",
    "    recall_max = -1\n",
    "    precision_max = -1\n",
    "    \n",
    "    for curr_samples_split_depth in range(2, 200):\n",
    "        dt_model = RandomForestClassifier(min_samples_split= curr_samples_split_depth, n_estimators= best_max_esitmators, max_depth= best_max_depth, random_state=my_random_state)\n",
    "        dt_model.fit(X_train, y_train)\n",
    "        y_pred = dt_model.predict(X_val)\n",
    "        recall_score = metrics.recall_score(y_val, y_pred)\n",
    "        precision_score = metrics.precision_score(y_val, y_pred)\n",
    "        if (recall_score >= recall_max):\n",
    "            recall_max = recall_score\n",
    "            precision_max = precision_score\n",
    "            result = curr_samples_split_depth\n",
    "    if do_print:\n",
    "        print('-' * 20)\n",
    "        print('best max sample split {} has {:.2%} recall and has {:.2%} precision.'.format(result, recall_max, precision_max))\n",
    "\n",
    "    return result"
   ]
  },
  {
   "cell_type": "code",
   "execution_count": 19,
   "id": "807b8487",
   "metadata": {},
   "outputs": [
    {
     "name": "stdout",
     "output_type": "stream",
     "text": [
      "--------------------\n",
      "best max depth 12 has 65.00% recall and has 68.42% precision.\n"
     ]
    }
   ],
   "source": [
    "best_max_depth = train_and_find_best_depth(X_train, X_val, y_train, y_val, True)"
   ]
  },
  {
   "cell_type": "code",
   "execution_count": 20,
   "id": "29b293c1",
   "metadata": {},
   "outputs": [
    {
     "name": "stdout",
     "output_type": "stream",
     "text": [
      "--------------------\n",
      "best max estimators 99 has 65.00% recall and has 66.67% precision.\n"
     ]
    }
   ],
   "source": [
    "best_max_estimators = train_and_find_best_estimators(X_train, X_val, y_train, y_val, best_max_depth, True)"
   ]
  },
  {
   "cell_type": "code",
   "execution_count": 21,
   "id": "8440e6a7",
   "metadata": {},
   "outputs": [
    {
     "name": "stdout",
     "output_type": "stream",
     "text": [
      "--------------------\n",
      "best max sample split 6 has 65.00% recall and has 63.41% precision.\n"
     ]
    }
   ],
   "source": [
    "best_max_samples_split = train_and_find_best_samples_split(X_train, X_val, y_train, y_val, best_max_depth, best_max_estimators, True)"
   ]
  },
  {
   "cell_type": "code",
   "execution_count": 22,
   "id": "72096fb2",
   "metadata": {},
   "outputs": [
    {
     "name": "stdout",
     "output_type": "stream",
     "text": [
      "Accuracy: 74.78%\n",
      "Precision: 63.41%\n",
      "Recall: 65.00%\n",
      "F1: 64.20%\n"
     ]
    }
   ],
   "source": [
    "X = diabetes_data[diabetes_data.columns[:-1]]\n",
    "y = diabetes_data['Outcome']\n",
    "\n",
    "dt_model = RandomForestClassifier(min_samples_split= best_max_samples_split,n_estimators= best_max_estimators, max_depth= best_max_depth, random_state=my_random_state)\n",
    "dt_model.fit(X_train, y_train)\n",
    "\n",
    "y_pred = dt_model.predict(X_val)\n",
    "\n",
    "print('Accuracy: {:.2%}'.format(metrics.accuracy_score(y_val, y_pred)))\n",
    "print('Precision: {:.2%}'.format(metrics.precision_score(y_val, y_pred)))\n",
    "print('Recall: {:.2%}'.format(metrics.recall_score(y_val, y_pred)))\n",
    "print('F1: {:.2%}'.format(metrics.f1_score(y_val, y_pred)))"
   ]
  },
  {
   "cell_type": "code",
   "execution_count": 23,
   "id": "ea6d2323",
   "metadata": {},
   "outputs": [
    {
     "data": {
      "text/plain": [
       "<sklearn.metrics._plot.confusion_matrix.ConfusionMatrixDisplay at 0x13ca01f90>"
      ]
     },
     "execution_count": 23,
     "metadata": {},
     "output_type": "execute_result"
    },
    {
     "data": {
      "image/png": "[encoded data removed]",
      "text/plain": [
       "<Figure size 640x480 with 2 Axes>"
      ]
     },
     "metadata": {},
     "output_type": "display_data"
    }
   ],
   "source": [
    "cm = confusion_matrix(y_val, y_pred)                   \n",
    "cm_display = ConfusionMatrixDisplay(cm)\n",
    "cm_display.plot()"
   ]
  },
  {
   "cell_type": "code",
   "execution_count": 24,
   "id": "59c49511",
   "metadata": {},
   "outputs": [
    {
     "name": "stdout",
     "output_type": "stream",
     "text": [
      "Accuracy: 84.48%\n",
      "Precision: 81.08%\n",
      "Recall: 73.17%\n",
      "F1: 76.92%\n"
     ]
    }
   ],
   "source": [
    "y_pred = dt_model.predict(X_test)\n",
    "\n",
    "print('Accuracy: {:.2%}'.format(metrics.accuracy_score(y_test, y_pred)))\n",
    "print('Precision: {:.2%}'.format(metrics.precision_score(y_test, y_pred)))\n",
    "print('Recall: {:.2%}'.format(metrics.recall_score(y_test, y_pred)))\n",
    "print('F1: {:.2%}'.format(metrics.f1_score(y_test, y_pred)))"
   ]
  },
  {
   "cell_type": "code",
   "execution_count": 25,
   "id": "56ff6370",
   "metadata": {},
   "outputs": [
    {
     "data": {
      "text/plain": [
       "<sklearn.metrics._plot.confusion_matrix.ConfusionMatrixDisplay at 0x13caa5db0>"
      ]
     },
     "execution_count": 25,
     "metadata": {},
     "output_type": "execute_result"
    },
    {
     "data": {
      "image/png": "[encoded data removed]",
      "text/plain": [
       "<Figure size 640x480 with 2 Axes>"
      ]
     },
     "metadata": {},
     "output_type": "display_data"
    }
   ],
   "source": [
    "cm = confusion_matrix(y_test, y_pred)                   \n",
    "cm_display = ConfusionMatrixDisplay(cm)\n",
    "cm_display.plot()"
   ]
  },
  {
   "cell_type": "markdown",
   "id": "bbf85749",
   "metadata": {},
   "source": [
    "### 0 Werte durch Median ersetzen"
   ]
  },
  {
   "cell_type": "code",
   "execution_count": 26,
   "id": "d4bae8c5",
   "metadata": {},
   "outputs": [],
   "source": [
    "diabetes_data = pd.read_csv('diabetes.csv')\n",
    "X = diabetes_data[diabetes_data.columns[:-1]]\n",
    "y = diabetes_data['Outcome']\n",
    "X_train, X_test_full, y_train, y_test_full = train_test_split(X, y, random_state=my_random_state, test_size=0.3, stratify=y)\n",
    "X_val, X_test, y_val, y_test = train_test_split(X_test_full, y_test_full,random_state=my_random_state, test_size=0.5, stratify=y_test_full)\n",
    "\n",
    "simple_imputer = SimpleImputer(strategy='median',missing_values=0)\n",
    "simple_imputer.fit(X_train[['Glucose', 'BloodPressure', 'SkinThickness', 'Insulin', 'BMI']])\n",
    "X_train[['Glucose', 'BloodPressure', 'SkinThickness', 'Insulin', 'BMI']] = simple_imputer.transform(X_train[['Glucose', 'BloodPressure', 'SkinThickness', 'Insulin', 'BMI']])"
   ]
  },
  {
   "cell_type": "code",
   "execution_count": 27,
   "id": "5931bc84",
   "metadata": {},
   "outputs": [
    {
     "name": "stdout",
     "output_type": "stream",
     "text": [
      "--------------------\n",
      "best max depth 6 has 50.00% recall and has 76.92% precision.\n"
     ]
    }
   ],
   "source": [
    "best_max_depth = train_and_find_best_depth(X_train, X_val, y_train, y_val, True)"
   ]
  },
  {
   "cell_type": "code",
   "execution_count": 28,
   "id": "70d1e7c3",
   "metadata": {},
   "outputs": [
    {
     "name": "stdout",
     "output_type": "stream",
     "text": [
      "--------------------\n",
      "best max estimators 6 has 52.50% recall and has 65.62% precision.\n"
     ]
    }
   ],
   "source": [
    "best_max_estimators = train_and_find_best_estimators(X_train, X_val, y_train, y_val, best_max_depth, True)"
   ]
  },
  {
   "cell_type": "code",
   "execution_count": 29,
   "id": "b78c7121",
   "metadata": {},
   "outputs": [
    {
     "name": "stdout",
     "output_type": "stream",
     "text": [
      "--------------------\n",
      "best max sample split 26 has 60.00% recall and has 66.67% precision.\n"
     ]
    }
   ],
   "source": [
    "best_max_samples_split = train_and_find_best_samples_split(X_train, X_val, y_train, y_val, best_max_depth, best_max_estimators, True)"
   ]
  },
  {
   "cell_type": "code",
   "execution_count": 30,
   "id": "0b6743e2",
   "metadata": {},
   "outputs": [
    {
     "name": "stdout",
     "output_type": "stream",
     "text": [
      "Accuracy: 75.65%\n",
      "Precision: 66.67%\n",
      "Recall: 60.00%\n",
      "F1: 63.16%\n"
     ]
    }
   ],
   "source": [
    "X = diabetes_data[diabetes_data.columns[:-1]]\n",
    "y = diabetes_data['Outcome']\n",
    "\n",
    "dt_model = RandomForestClassifier(min_samples_split= best_max_samples_split,n_estimators= best_max_estimators, max_depth= best_max_depth, random_state=my_random_state)\n",
    "dt_model.fit(X_train, y_train)\n",
    "\n",
    "y_pred = dt_model.predict(X_val)\n",
    "\n",
    "print('Accuracy: {:.2%}'.format(metrics.accuracy_score(y_val, y_pred)))\n",
    "print('Precision: {:.2%}'.format(metrics.precision_score(y_val, y_pred)))\n",
    "print('Recall: {:.2%}'.format(metrics.recall_score(y_val, y_pred)))\n",
    "print('F1: {:.2%}'.format(metrics.f1_score(y_val, y_pred)))"
   ]
  },
  {
   "cell_type": "code",
   "execution_count": 31,
   "id": "67faa759",
   "metadata": {},
   "outputs": [
    {
     "data": {
      "text/plain": [
       "<sklearn.metrics._plot.confusion_matrix.ConfusionMatrixDisplay at 0x13c5bcbb0>"
      ]
     },
     "execution_count": 31,
     "metadata": {},
     "output_type": "execute_result"
    },
    {
     "data": {
      "image/png": "[encoded data removed]",
      "text/plain": [
       "<Figure size 640x480 with 2 Axes>"
      ]
     },
     "metadata": {},
     "output_type": "display_data"
    }
   ],
   "source": [
    "cm = confusion_matrix(y_val, y_pred)                   \n",
    "cm_display = ConfusionMatrixDisplay(cm)\n",
    "cm_display.plot()"
   ]
  },
  {
   "cell_type": "code",
   "execution_count": 32,
   "id": "ccc98ffe",
   "metadata": {},
   "outputs": [
    {
     "name": "stdout",
     "output_type": "stream",
     "text": [
      "Accuracy: 76.72%\n",
      "Precision: 69.44%\n",
      "Recall: 60.98%\n",
      "F1: 64.94%\n"
     ]
    }
   ],
   "source": [
    "y_pred = dt_model.predict(X_test)\n",
    "\n",
    "print('Accuracy: {:.2%}'.format(metrics.accuracy_score(y_test, y_pred)))\n",
    "print('Precision: {:.2%}'.format(metrics.precision_score(y_test, y_pred)))\n",
    "print('Recall: {:.2%}'.format(metrics.recall_score(y_test, y_pred)))\n",
    "print('F1: {:.2%}'.format(metrics.f1_score(y_test, y_pred)))"
   ]
  },
  {
   "cell_type": "code",
   "execution_count": 33,
   "id": "a2db22fc",
   "metadata": {},
   "outputs": [
    {
     "data": {
      "text/plain": [
       "<sklearn.metrics._plot.confusion_matrix.ConfusionMatrixDisplay at 0x13cc09cf0>"
      ]
     },
     "execution_count": 33,
     "metadata": {},
     "output_type": "execute_result"
    },
    {
     "data": {
      "image/png": "[encoded data removed]",
      "text/plain": [
       "<Figure size 640x480 with 2 Axes>"
      ]
     },
     "metadata": {},
     "output_type": "display_data"
    }
   ],
   "source": [
    "cm = confusion_matrix(y_test, y_pred)                   \n",
    "cm_display = ConfusionMatrixDisplay(cm)\n",
    "cm_display.plot()"
   ]
  },
  {
   "cell_type": "markdown",
   "id": "858764a3",
   "metadata": {},
   "source": [
    "### 0 Werte mit Durchschnitt ersetzen"
   ]
  },
  {
   "cell_type": "code",
   "execution_count": 34,
   "id": "5d924978",
   "metadata": {},
   "outputs": [],
   "source": [
    "diabetes_data = pd.read_csv('diabetes.csv')\n",
    "X = diabetes_data[diabetes_data.columns[:-1]]\n",
    "y = diabetes_data['Outcome']\n",
    "X_train, X_test_full, y_train, y_test_full = train_test_split(X, y, random_state=my_random_state, test_size=0.3, stratify=y)\n",
    "X_val, X_test, y_val, y_test = train_test_split(X_test_full, y_test_full,random_state=my_random_state, test_size=0.5, stratify=y_test_full)\n",
    "\n",
    "simple_imputer = SimpleImputer(strategy='median',missing_values=0)\n",
    "simple_imputer.fit(X_train[['Glucose', 'BloodPressure', 'SkinThickness', 'Insulin', 'BMI']])\n",
    "X_train[['Glucose', 'BloodPressure', 'SkinThickness', 'Insulin', 'BMI']] = simple_imputer.transform(X_train[['Glucose', 'BloodPressure', 'SkinThickness', 'Insulin', 'BMI']])"
   ]
  },
  {
   "cell_type": "code",
   "execution_count": 35,
   "id": "0eb16bfa",
   "metadata": {},
   "outputs": [
    {
     "name": "stdout",
     "output_type": "stream",
     "text": [
      "--------------------\n",
      "best max depth 6 has 50.00% recall and has 76.92% precision.\n"
     ]
    }
   ],
   "source": [
    "best_max_depth = train_and_find_best_depth(X_train, X_val, y_train, y_val, True)"
   ]
  },
  {
   "cell_type": "code",
   "execution_count": 36,
   "id": "1930032d",
   "metadata": {},
   "outputs": [
    {
     "name": "stdout",
     "output_type": "stream",
     "text": [
      "--------------------\n",
      "best max estimators 6 has 52.50% recall and has 65.62% precision.\n"
     ]
    }
   ],
   "source": [
    "best_max_estimators = train_and_find_best_estimators(X_train, X_val, y_train, y_val, best_max_depth, True)"
   ]
  },
  {
   "cell_type": "code",
   "execution_count": 37,
   "id": "26cefcea",
   "metadata": {},
   "outputs": [
    {
     "name": "stdout",
     "output_type": "stream",
     "text": [
      "--------------------\n",
      "best max sample split 26 has 60.00% recall and has 66.67% precision.\n"
     ]
    }
   ],
   "source": [
    "best_max_samples_split = train_and_find_best_samples_split(X_train, X_val, y_train, y_val, best_max_depth, best_max_estimators, True)"
   ]
  },
  {
   "cell_type": "code",
   "execution_count": 38,
   "id": "4ba49e44",
   "metadata": {},
   "outputs": [
    {
     "name": "stdout",
     "output_type": "stream",
     "text": [
      "Accuracy: 75.65%\n",
      "Precision: 66.67%\n",
      "Recall: 60.00%\n",
      "F1: 63.16%\n"
     ]
    }
   ],
   "source": [
    "X = diabetes_data[diabetes_data.columns[:-1]]\n",
    "y = diabetes_data['Outcome']\n",
    "\n",
    "dt_model = RandomForestClassifier(min_samples_split= best_max_samples_split,n_estimators= best_max_estimators, max_depth= best_max_depth, random_state=my_random_state)\n",
    "dt_model.fit(X_train, y_train)\n",
    "\n",
    "y_pred = dt_model.predict(X_val)\n",
    "\n",
    "print('Accuracy: {:.2%}'.format(metrics.accuracy_score(y_val, y_pred)))\n",
    "print('Precision: {:.2%}'.format(metrics.precision_score(y_val, y_pred)))\n",
    "print('Recall: {:.2%}'.format(metrics.recall_score(y_val, y_pred)))\n",
    "print('F1: {:.2%}'.format(metrics.f1_score(y_val, y_pred)))"
   ]
  },
  {
   "cell_type": "code",
   "execution_count": 39,
   "id": "055e6088",
   "metadata": {},
   "outputs": [
    {
     "data": {
      "text/plain": [
       "<sklearn.metrics._plot.confusion_matrix.ConfusionMatrixDisplay at 0x13cca63e0>"
      ]
     },
     "execution_count": 39,
     "metadata": {},
     "output_type": "execute_result"
    },
    {
     "data": {
      "image/png": "[encoded data removed]",
      "text/plain": [
       "<Figure size 640x480 with 2 Axes>"
      ]
     },
     "metadata": {},
     "output_type": "display_data"
    }
   ],
   "source": [
    "cm = confusion_matrix(y_val, y_pred)                   \n",
    "cm_display = ConfusionMatrixDisplay(cm)\n",
    "cm_display.plot()"
   ]
  },
  {
   "cell_type": "code",
   "execution_count": 40,
   "id": "d7db659c",
   "metadata": {},
   "outputs": [
    {
     "name": "stdout",
     "output_type": "stream",
     "text": [
      "Accuracy: 76.72%\n",
      "Precision: 69.44%\n",
      "Recall: 60.98%\n",
      "F1: 64.94%\n"
     ]
    }
   ],
   "source": [
    "y_pred = dt_model.predict(X_test)\n",
    "\n",
    "print('Accuracy: {:.2%}'.format(metrics.accuracy_score(y_test, y_pred)))\n",
    "print('Precision: {:.2%}'.format(metrics.precision_score(y_test, y_pred)))\n",
    "print('Recall: {:.2%}'.format(metrics.recall_score(y_test, y_pred)))\n",
    "print('F1: {:.2%}'.format(metrics.f1_score(y_test, y_pred)))"
   ]
  },
  {
   "cell_type": "code",
   "execution_count": 41,
   "id": "ab2e4b98",
   "metadata": {},
   "outputs": [
    {
     "data": {
      "text/plain": [
       "<sklearn.metrics._plot.confusion_matrix.ConfusionMatrixDisplay at 0x13cc0b370>"
      ]
     },
     "execution_count": 41,
     "metadata": {},
     "output_type": "execute_result"
    },
    {
     "data": {
      "image/png": "[encoded data removed]",
      "text/plain": [
       "<Figure size 640x480 with 2 Axes>"
      ]
     },
     "metadata": {},
     "output_type": "display_data"
    }
   ],
   "source": [
    "cm = confusion_matrix(y_test, y_pred)                   \n",
    "cm_display = ConfusionMatrixDisplay(cm)\n",
    "cm_display.plot()"
   ]
  },
  {
   "cell_type": "markdown",
   "id": "3a44a7e6",
   "metadata": {},
   "source": [
    "### Werte mit wenigen 0 Werten verwerfen und die restlichen mit dem Median ersetzen"
   ]
  },
  {
   "cell_type": "code",
   "execution_count": 42,
   "id": "bf95de7b",
   "metadata": {
    "scrolled": true
   },
   "outputs": [],
   "source": [
    "diabetes_data = pd.read_csv('diabetes.csv')\n",
    "X = diabetes_data[diabetes_data.columns[:-1]]\n",
    "y = diabetes_data['Outcome']\n",
    "X_train, X_test_full, y_train, y_test_full = train_test_split(X, y, random_state=my_random_state, test_size=0.3, stratify=y)\n",
    "X_val, X_test, y_val, y_test = train_test_split(X_test_full, y_test_full,random_state=my_random_state, test_size=0.5, stratify=y_test_full)\n",
    "\n",
    "y_train.drop(y_train[X_train.Glucose == 0].index, inplace=True)\n",
    "y_train.drop(y_train[X_train.BloodPressure == 0].index, inplace=True)\n",
    "y_train.drop(y_train[X_train.BMI == 0].index, inplace=True)\n",
    "\n",
    "X_train.drop(X_train[X_train.Glucose == 0].index, inplace=True)\n",
    "X_train.drop(X_train[X_train.BloodPressure == 0].index, inplace=True)\n",
    "X_train.drop(X_train[X_train.BMI == 0].index, inplace=True)\n",
    "\n",
    "simple_imputer = SimpleImputer(strategy='mean',missing_values=0)\n",
    "\n",
    "simple_imputer.fit(X_train[['SkinThickness', 'Insulin']])\n",
    "X_train[['SkinThickness', 'Insulin']] = simple_imputer.transform(X_train[['SkinThickness', 'Insulin']])"
   ]
  },
  {
   "cell_type": "code",
   "execution_count": 43,
   "id": "87c90ca3",
   "metadata": {},
   "outputs": [
    {
     "name": "stdout",
     "output_type": "stream",
     "text": [
      "--------------------\n",
      "best max depth 9 has 47.50% recall and has 73.08% precision.\n"
     ]
    }
   ],
   "source": [
    "best_max_depth = train_and_find_best_depth(X_train, X_val, y_train, y_val, True)"
   ]
  },
  {
   "cell_type": "code",
   "execution_count": 44,
   "id": "c075341e",
   "metadata": {},
   "outputs": [
    {
     "name": "stdout",
     "output_type": "stream",
     "text": [
      "--------------------\n",
      "best max estimators 7 has 52.50% recall and has 67.74% precision.\n"
     ]
    }
   ],
   "source": [
    "best_max_estimators = train_and_find_best_estimators(X_train, X_val, y_train, y_val, best_max_depth, True)"
   ]
  },
  {
   "cell_type": "code",
   "execution_count": 45,
   "id": "baeda3da",
   "metadata": {},
   "outputs": [
    {
     "name": "stdout",
     "output_type": "stream",
     "text": [
      "--------------------\n",
      "best max sample split 16 has 52.50% recall and has 61.76% precision.\n"
     ]
    }
   ],
   "source": [
    "best_max_samples_split = train_and_find_best_samples_split(X_train, X_val, y_train, y_val, best_max_depth, best_max_estimators, True)"
   ]
  },
  {
   "cell_type": "code",
   "execution_count": 46,
   "id": "d80ed862",
   "metadata": {},
   "outputs": [
    {
     "name": "stdout",
     "output_type": "stream",
     "text": [
      "Accuracy: 72.17%\n",
      "Precision: 61.76%\n",
      "Recall: 52.50%\n",
      "F1: 56.76%\n"
     ]
    }
   ],
   "source": [
    "X = diabetes_data[diabetes_data.columns[:-1]]\n",
    "y = diabetes_data['Outcome']\n",
    "\n",
    "dt_model = RandomForestClassifier(min_samples_split= best_max_samples_split,n_estimators= best_max_estimators, max_depth= best_max_depth, random_state=my_random_state)\n",
    "dt_model.fit(X_train, y_train)\n",
    "\n",
    "y_pred = dt_model.predict(X_val)\n",
    "\n",
    "print('Accuracy: {:.2%}'.format(metrics.accuracy_score(y_val, y_pred)))\n",
    "print('Precision: {:.2%}'.format(metrics.precision_score(y_val, y_pred)))\n",
    "print('Recall: {:.2%}'.format(metrics.recall_score(y_val, y_pred)))\n",
    "print('F1: {:.2%}'.format(metrics.f1_score(y_val, y_pred)))"
   ]
  },
  {
   "cell_type": "code",
   "execution_count": 47,
   "id": "42a302f9",
   "metadata": {},
   "outputs": [
    {
     "data": {
      "text/plain": [
       "<sklearn.metrics._plot.confusion_matrix.ConfusionMatrixDisplay at 0x13ce28ac0>"
      ]
     },
     "execution_count": 47,
     "metadata": {},
     "output_type": "execute_result"
    },
    {
     "data": {
      "image/png": "[encoded data removed]",
      "text/plain": [
       "<Figure size 640x480 with 2 Axes>"
      ]
     },
     "metadata": {},
     "output_type": "display_data"
    }
   ],
   "source": [
    "cm = confusion_matrix(y_val, y_pred)                   \n",
    "cm_display = ConfusionMatrixDisplay(cm)\n",
    "cm_display.plot()"
   ]
  },
  {
   "cell_type": "code",
   "execution_count": 48,
   "id": "01eb7afc",
   "metadata": {
    "scrolled": false
   },
   "outputs": [
    {
     "name": "stdout",
     "output_type": "stream",
     "text": [
      "Accuracy: 78.45%\n",
      "Precision: 75.00%\n",
      "Recall: 58.54%\n",
      "F1: 65.75%\n"
     ]
    }
   ],
   "source": [
    "y_pred = dt_model.predict(X_test)\n",
    "\n",
    "print('Accuracy: {:.2%}'.format(metrics.accuracy_score(y_test, y_pred)))\n",
    "print('Precision: {:.2%}'.format(metrics.precision_score(y_test, y_pred)))\n",
    "print('Recall: {:.2%}'.format(metrics.recall_score(y_test, y_pred)))\n",
    "print('F1: {:.2%}'.format(metrics.f1_score(y_test, y_pred)))"
   ]
  },
  {
   "cell_type": "code",
   "execution_count": 49,
   "id": "dab0b334",
   "metadata": {
    "scrolled": false
   },
   "outputs": [
    {
     "data": {
      "text/plain": [
       "<sklearn.metrics._plot.confusion_matrix.ConfusionMatrixDisplay at 0x13cee1d50>"
      ]
     },
     "execution_count": 49,
     "metadata": {},
     "output_type": "execute_result"
    },
    {
     "data": {
      "image/png": "[encoded data removed]",
      "text/plain": [
       "<Figure size 640x480 with 2 Axes>"
      ]
     },
     "metadata": {},
     "output_type": "display_data"
    }
   ],
   "source": [
    "cm = confusion_matrix(y_test, y_pred)                   \n",
    "cm_display = ConfusionMatrixDisplay(cm)\n",
    "cm_display.plot()"
   ]
  }
 ],
 "metadata": {
  "kernelspec": {
   "display_name": "Python 3 (ipykernel)",
   "language": "python",
   "name": "python3"
  },
  "language_info": {
   "codemirror_mode": {
    "name": "ipython",
    "version": 3
   },
   "file_extension": ".py",
   "mimetype": "text/x-python",
   "name": "python",
   "nbconvert_exporter": "python",
   "pygments_lexer": "ipython3",
   "version": "3.10.6"
  }
 },
 "nbformat": 4,
 "nbformat_minor": 5
}
