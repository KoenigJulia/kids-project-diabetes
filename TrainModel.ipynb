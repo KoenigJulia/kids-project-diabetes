{
 "cells": [
  {
   "cell_type": "code",
   "execution_count": 1425,
   "id": "2be96161",
   "metadata": {},
   "outputs": [],
   "source": [
    "import pandas as pd\n",
    "from sklearn.impute import SimpleImputer\n",
    "from sklearn.tree import DecisionTreeClassifier\n",
    "from sklearn.model_selection import train_test_split\n",
    "from sklearn import metrics\n",
    "import matplotlib.pyplot as plt\n",
    "import seaborn as sns\n",
    "import imblearn\n",
    "from sklearn.metrics import confusion_matrix\n",
    "from sklearn.metrics import ConfusionMatrixDisplay\n",
    "\n",
    "my_random_state = 10"
   ]
  },
  {
   "cell_type": "code",
   "execution_count": 1426,
   "id": "e545584e",
   "metadata": {},
   "outputs": [
    {
     "data": {
      "text/html": [
       "<div>\n",
       "<style scoped>\n",
       "    .dataframe tbody tr th:only-of-type {\n",
       "        vertical-align: middle;\n",
       "    }\n",
       "\n",
       "    .dataframe tbody tr th {\n",
       "        vertical-align: top;\n",
       "    }\n",
       "\n",
       "    .dataframe thead th {\n",
       "        text-align: right;\n",
       "    }\n",
       "</style>\n",
       "<table border=\"1\" class=\"dataframe\">\n",
       "  <thead>\n",
       "    <tr style=\"text-align: right;\">\n",
       "      <th></th>\n",
       "      <th>Unnamed: 0</th>\n",
       "      <th>Pregnancies</th>\n",
       "      <th>Glucose</th>\n",
       "      <th>BloodPressure</th>\n",
       "      <th>SkinThickness</th>\n",
       "      <th>Insulin</th>\n",
       "      <th>BMI</th>\n",
       "      <th>DiabetesPedigreeFunction</th>\n",
       "      <th>Age</th>\n",
       "      <th>Outcome</th>\n",
       "    </tr>\n",
       "  </thead>\n",
       "  <tbody>\n",
       "    <tr>\n",
       "      <th>count</th>\n",
       "      <td>724.000000</td>\n",
       "      <td>724.000000</td>\n",
       "      <td>724.000000</td>\n",
       "      <td>724.000000</td>\n",
       "      <td>724.000000</td>\n",
       "      <td>724.000000</td>\n",
       "      <td>724.000000</td>\n",
       "      <td>724.000000</td>\n",
       "      <td>724.000000</td>\n",
       "      <td>724.000000</td>\n",
       "    </tr>\n",
       "    <tr>\n",
       "      <th>mean</th>\n",
       "      <td>384.781768</td>\n",
       "      <td>3.866022</td>\n",
       "      <td>121.882597</td>\n",
       "      <td>72.400552</td>\n",
       "      <td>29.929558</td>\n",
       "      <td>132.643646</td>\n",
       "      <td>32.467127</td>\n",
       "      <td>0.474765</td>\n",
       "      <td>33.350829</td>\n",
       "      <td>0.343923</td>\n",
       "    </tr>\n",
       "    <tr>\n",
       "      <th>std</th>\n",
       "      <td>222.504870</td>\n",
       "      <td>3.362803</td>\n",
       "      <td>30.750030</td>\n",
       "      <td>12.379870</td>\n",
       "      <td>9.104390</td>\n",
       "      <td>91.027682</td>\n",
       "      <td>6.888941</td>\n",
       "      <td>0.332315</td>\n",
       "      <td>11.765393</td>\n",
       "      <td>0.475344</td>\n",
       "    </tr>\n",
       "    <tr>\n",
       "      <th>min</th>\n",
       "      <td>0.000000</td>\n",
       "      <td>0.000000</td>\n",
       "      <td>44.000000</td>\n",
       "      <td>24.000000</td>\n",
       "      <td>7.000000</td>\n",
       "      <td>14.000000</td>\n",
       "      <td>18.200000</td>\n",
       "      <td>0.078000</td>\n",
       "      <td>21.000000</td>\n",
       "      <td>0.000000</td>\n",
       "    </tr>\n",
       "    <tr>\n",
       "      <th>25%</th>\n",
       "      <td>191.750000</td>\n",
       "      <td>1.000000</td>\n",
       "      <td>99.750000</td>\n",
       "      <td>64.000000</td>\n",
       "      <td>25.000000</td>\n",
       "      <td>105.000000</td>\n",
       "      <td>27.500000</td>\n",
       "      <td>0.245000</td>\n",
       "      <td>24.000000</td>\n",
       "      <td>0.000000</td>\n",
       "    </tr>\n",
       "    <tr>\n",
       "      <th>50%</th>\n",
       "      <td>385.500000</td>\n",
       "      <td>3.000000</td>\n",
       "      <td>117.000000</td>\n",
       "      <td>72.000000</td>\n",
       "      <td>32.000000</td>\n",
       "      <td>105.000000</td>\n",
       "      <td>32.400000</td>\n",
       "      <td>0.379000</td>\n",
       "      <td>29.000000</td>\n",
       "      <td>0.000000</td>\n",
       "    </tr>\n",
       "    <tr>\n",
       "      <th>75%</th>\n",
       "      <td>577.250000</td>\n",
       "      <td>6.000000</td>\n",
       "      <td>142.000000</td>\n",
       "      <td>80.000000</td>\n",
       "      <td>33.000000</td>\n",
       "      <td>130.500000</td>\n",
       "      <td>36.600000</td>\n",
       "      <td>0.627500</td>\n",
       "      <td>41.000000</td>\n",
       "      <td>1.000000</td>\n",
       "    </tr>\n",
       "    <tr>\n",
       "      <th>max</th>\n",
       "      <td>767.000000</td>\n",
       "      <td>17.000000</td>\n",
       "      <td>199.000000</td>\n",
       "      <td>122.000000</td>\n",
       "      <td>99.000000</td>\n",
       "      <td>846.000000</td>\n",
       "      <td>67.100000</td>\n",
       "      <td>2.420000</td>\n",
       "      <td>81.000000</td>\n",
       "      <td>1.000000</td>\n",
       "    </tr>\n",
       "  </tbody>\n",
       "</table>\n",
       "</div>"
      ],
      "text/plain": [
       "       Unnamed: 0  Pregnancies     Glucose  BloodPressure  SkinThickness  \\\n",
       "count  724.000000   724.000000  724.000000     724.000000     724.000000   \n",
       "mean   384.781768     3.866022  121.882597      72.400552      29.929558   \n",
       "std    222.504870     3.362803   30.750030      12.379870       9.104390   \n",
       "min      0.000000     0.000000   44.000000      24.000000       7.000000   \n",
       "25%    191.750000     1.000000   99.750000      64.000000      25.000000   \n",
       "50%    385.500000     3.000000  117.000000      72.000000      32.000000   \n",
       "75%    577.250000     6.000000  142.000000      80.000000      33.000000   \n",
       "max    767.000000    17.000000  199.000000     122.000000      99.000000   \n",
       "\n",
       "          Insulin         BMI  DiabetesPedigreeFunction         Age  \\\n",
       "count  724.000000  724.000000                724.000000  724.000000   \n",
       "mean   132.643646   32.467127                  0.474765   33.350829   \n",
       "std     91.027682    6.888941                  0.332315   11.765393   \n",
       "min     14.000000   18.200000                  0.078000   21.000000   \n",
       "25%    105.000000   27.500000                  0.245000   24.000000   \n",
       "50%    105.000000   32.400000                  0.379000   29.000000   \n",
       "75%    130.500000   36.600000                  0.627500   41.000000   \n",
       "max    846.000000   67.100000                  2.420000   81.000000   \n",
       "\n",
       "          Outcome  \n",
       "count  724.000000  \n",
       "mean     0.343923  \n",
       "std      0.475344  \n",
       "min      0.000000  \n",
       "25%      0.000000  \n",
       "50%      0.000000  \n",
       "75%      1.000000  \n",
       "max      1.000000  "
      ]
     },
     "execution_count": 1426,
     "metadata": {},
     "output_type": "execute_result"
    }
   ],
   "source": [
    "diabetes_data = pd.read_csv('prep_diabetes.csv')\n",
    "diabetes_data.describe()"
   ]
  },
  {
   "cell_type": "code",
   "execution_count": 1427,
   "id": "45b4457c",
   "metadata": {
    "scrolled": true
   },
   "outputs": [
    {
     "data": {
      "text/plain": [
       "0    475\n",
       "1    249\n",
       "Name: Outcome, dtype: int64"
      ]
     },
     "execution_count": 1427,
     "metadata": {},
     "output_type": "execute_result"
    }
   ],
   "source": [
    "diabetes_data['Outcome'].value_counts()"
   ]
  },
  {
   "cell_type": "code",
   "execution_count": 1428,
   "id": "c90108ab",
   "metadata": {
    "scrolled": false
   },
   "outputs": [
    {
     "data": {
      "text/plain": [
       "array([<AxesSubplot: ylabel='0'>], dtype=object)"
      ]
     },
     "execution_count": 1428,
     "metadata": {},
     "output_type": "execute_result"
    },
    {
     "data": {
      "image/png": "[encoded data removed]",
      "text/plain": [
       "<Figure size 640x480 with 1 Axes>"
      ]
     },
     "metadata": {},
     "output_type": "display_data"
    }
   ],
   "source": [
    "X = diabetes_data[diabetes_data.columns[:-1]]\n",
    "y = diabetes_data['Outcome']\n",
    "X_train, X_test_full, y_train, y_test_full = train_test_split(X, y, random_state=my_random_state, test_size=0.3, stratify=y)\n",
    "X_val, X_test, y_val, y_test = train_test_split(X_test_full, y_test_full,random_state=my_random_state, test_size=0.5, stratify=y_test_full)\n",
    "\n",
    "pd.DataFrame([len(y_train), len(y_val), len(y_test)], index=['train', 'validation', 'test']).plot(kind='pie', subplots=True)"
   ]
  },
  {
   "cell_type": "code",
   "execution_count": 1429,
   "id": "f52080aa",
   "metadata": {},
   "outputs": [
    {
     "data": {
      "text/plain": [
       "<AxesSubplot: title={'center': 'test'}, ylabel='Outcome'>"
      ]
     },
     "execution_count": 1429,
     "metadata": {},
     "output_type": "execute_result"
    },
    {
     "data": {
      "image/png": "[encoded data removed]",
      "text/plain": [
       "<Figure size 1200x600 with 3 Axes>"
      ]
     },
     "metadata": {},
     "output_type": "display_data"
    }
   ],
   "source": [
    "fig, (ax1, ax2, ax3) = plt.subplots(1, 3, figsize=(12,6))\n",
    "y_train.value_counts().plot(kind='pie', ax=ax1, title='train')\n",
    "y_val.value_counts().plot(kind='pie', ax=ax2, title='val')\n",
    "y_test.value_counts().plot(kind='pie', ax=ax3, title='test')"
   ]
  },
  {
   "cell_type": "markdown",
   "id": "7efa2456",
   "metadata": {},
   "source": [
    "### Trainieren von Model ohne Datenverteilung von 0 & 1 zu manipulieren"
   ]
  },
  {
   "cell_type": "code",
   "execution_count": 1430,
   "id": "18947fb9",
   "metadata": {},
   "outputs": [
    {
     "name": "stdout",
     "output_type": "stream",
     "text": [
      "Accuracy: 79.82%\n",
      "Precision: 70.27%\n",
      "Recall: 70.27%\n",
      "F1: 70.27%\n"
     ]
    }
   ],
   "source": [
    "X = diabetes_data[diabetes_data.columns[:-1]]\n",
    "y = diabetes_data['Outcome']\n",
    "\n",
    "dt_model = DecisionTreeClassifier(random_state=my_random_state)\n",
    "dt_model.fit(X_train, y_train)\n",
    "\n",
    "y_pred = dt_model.predict(X_val)\n",
    "\n",
    "print('Accuracy: {:.2%}'.format(metrics.accuracy_score(y_val, y_pred)))\n",
    "print('Precision: {:.2%}'.format(metrics.precision_score(y_val, y_pred)))\n",
    "print('Recall: {:.2%}'.format(metrics.recall_score(y_val, y_pred)))\n",
    "print('F1: {:.2%}'.format(metrics.f1_score(y_val, y_pred)))"
   ]
  },
  {
   "cell_type": "code",
   "execution_count": 1431,
   "id": "81631eec",
   "metadata": {},
   "outputs": [
    {
     "data": {
      "text/plain": [
       "<sklearn.metrics._plot.confusion_matrix.ConfusionMatrixDisplay at 0x28a65ff10>"
      ]
     },
     "execution_count": 1431,
     "metadata": {},
     "output_type": "execute_result"
    },
    {
     "data": {
      "image/png": "[encoded data removed]",
      "text/plain": [
       "<Figure size 640x480 with 2 Axes>"
      ]
     },
     "metadata": {},
     "output_type": "display_data"
    }
   ],
   "source": [
    "cm = confusion_matrix(y_val, y_pred)                   \n",
    "cm_display = ConfusionMatrixDisplay(cm)\n",
    "cm_display.plot()"
   ]
  },
  {
   "cell_type": "markdown",
   "id": "2f7c9b4b",
   "metadata": {},
   "source": [
    "### UnderSampling"
   ]
  },
  {
   "cell_type": "code",
   "execution_count": 1432,
   "id": "74e5cb57",
   "metadata": {},
   "outputs": [],
   "source": [
    "from imblearn.under_sampling import RandomUnderSampler"
   ]
  },
  {
   "cell_type": "code",
   "execution_count": 1433,
   "id": "82a72596",
   "metadata": {},
   "outputs": [
    {
     "data": {
      "text/plain": [
       "0    174\n",
       "1    174\n",
       "Name: Outcome, dtype: int64"
      ]
     },
     "execution_count": 1433,
     "metadata": {},
     "output_type": "execute_result"
    }
   ],
   "source": [
    "undersampler = RandomUnderSampler(sampling_strategy=1, random_state=my_random_state)\n",
    "X_under, y_under = undersampler.fit_resample(X_train, y_train)\n",
    "y_under.value_counts()"
   ]
  },
  {
   "cell_type": "code",
   "execution_count": 1434,
   "id": "0c1a2fbe",
   "metadata": {
    "scrolled": true
   },
   "outputs": [
    {
     "name": "stdout",
     "output_type": "stream",
     "text": [
      "Accuracy: 65.14%\n",
      "Precision: 49.02%\n",
      "Recall: 67.57%\n",
      "F1: 56.82%\n"
     ]
    }
   ],
   "source": [
    "X = diabetes_data[diabetes_data.columns[:-1]]\n",
    "y = diabetes_data['Outcome']\n",
    "\n",
    "dt_model = DecisionTreeClassifier(random_state=my_random_state)\n",
    "dt_model.fit(X_under, y_under)\n",
    "\n",
    "y_pred = dt_model.predict(X_val)\n",
    "\n",
    "print('Accuracy: {:.2%}'.format(metrics.accuracy_score(y_val, y_pred)))\n",
    "print('Precision: {:.2%}'.format(metrics.precision_score(y_val, y_pred)))\n",
    "print('Recall: {:.2%}'.format(metrics.recall_score(y_val, y_pred)))\n",
    "print('F1: {:.2%}'.format(metrics.f1_score(y_val, y_pred)))"
   ]
  },
  {
   "cell_type": "code",
   "execution_count": 1435,
   "id": "31cbed86",
   "metadata": {},
   "outputs": [
    {
     "data": {
      "text/plain": [
       "<sklearn.metrics._plot.confusion_matrix.ConfusionMatrixDisplay at 0x28a65fac0>"
      ]
     },
     "execution_count": 1435,
     "metadata": {},
     "output_type": "execute_result"
    },
    {
     "data": {
      "image/png": "[encoded data removed]",
      "text/plain": [
       "<Figure size 640x480 with 2 Axes>"
      ]
     },
     "metadata": {},
     "output_type": "display_data"
    }
   ],
   "source": [
    "cm = confusion_matrix(y_val, y_pred)                   \n",
    "cm_display = ConfusionMatrixDisplay(cm)\n",
    "cm_display.plot()"
   ]
  },
  {
   "cell_type": "markdown",
   "id": "c3cc8028",
   "metadata": {},
   "source": [
    "### Oversampling"
   ]
  },
  {
   "cell_type": "code",
   "execution_count": 1436,
   "id": "7456954b",
   "metadata": {},
   "outputs": [],
   "source": [
    "from imblearn.over_sampling import RandomOverSampler"
   ]
  },
  {
   "cell_type": "code",
   "execution_count": 1437,
   "id": "71068c97",
   "metadata": {},
   "outputs": [
    {
     "data": {
      "text/plain": [
       "1    332\n",
       "0    332\n",
       "Name: Outcome, dtype: int64"
      ]
     },
     "execution_count": 1437,
     "metadata": {},
     "output_type": "execute_result"
    }
   ],
   "source": [
    "oversampler = RandomOverSampler(sampling_strategy=1, random_state=my_random_state)\n",
    "X_over, y_over = oversampler.fit_resample(X_train, y_train)\n",
    "y_over.value_counts()"
   ]
  },
  {
   "cell_type": "code",
   "execution_count": 1438,
   "id": "4e8c1bef",
   "metadata": {},
   "outputs": [
    {
     "name": "stdout",
     "output_type": "stream",
     "text": [
      "Accuracy: 66.06%\n",
      "Precision: 50.00%\n",
      "Recall: 54.05%\n",
      "F1: 51.95%\n"
     ]
    }
   ],
   "source": [
    "dt_model = DecisionTreeClassifier(random_state=my_random_state)\n",
    "dt_model.fit(X_over, y_over)\n",
    "\n",
    "y_pred = dt_model.predict(X_val)\n",
    "\n",
    "print('Accuracy: {:.2%}'.format(metrics.accuracy_score(y_val, y_pred)))\n",
    "print('Precision: {:.2%}'.format(metrics.precision_score(y_val, y_pred)))\n",
    "print('Recall: {:.2%}'.format(metrics.recall_score(y_val, y_pred)))\n",
    "print('F1: {:.2%}'.format(metrics.f1_score(y_val, y_pred)))"
   ]
  },
  {
   "cell_type": "code",
   "execution_count": 1439,
   "id": "15c4ec8c",
   "metadata": {},
   "outputs": [
    {
     "data": {
      "text/plain": [
       "<sklearn.metrics._plot.confusion_matrix.ConfusionMatrixDisplay at 0x28a897880>"
      ]
     },
     "execution_count": 1439,
     "metadata": {},
     "output_type": "execute_result"
    },
    {
     "data": {
      "image/png": "[encoded data removed]",
      "text/plain": [
       "<Figure size 640x480 with 2 Axes>"
      ]
     },
     "metadata": {},
     "output_type": "display_data"
    }
   ],
   "source": [
    "cm = confusion_matrix(y_val, y_pred)                   \n",
    "cm_display = ConfusionMatrixDisplay(cm)\n",
    "cm_display.plot()"
   ]
  },
  {
   "cell_type": "markdown",
   "id": "fa9ea374",
   "metadata": {},
   "source": [
    "### Kombinieren von OverSampling und UnderSampling"
   ]
  },
  {
   "cell_type": "code",
   "execution_count": 1440,
   "id": "22de6c70",
   "metadata": {},
   "outputs": [
    {
     "data": {
      "text/plain": [
       "0    332\n",
       "1    265\n",
       "Name: Outcome, dtype: int64"
      ]
     },
     "execution_count": 1440,
     "metadata": {},
     "output_type": "execute_result"
    }
   ],
   "source": [
    "oversampler = RandomOverSampler(sampling_strategy=0.8, random_state=my_random_state)\n",
    "X_mix, y_mix = oversampler.fit_resample(X_train, y_train)\n",
    "y_mix.value_counts()"
   ]
  },
  {
   "cell_type": "code",
   "execution_count": 1441,
   "id": "9585d9b2",
   "metadata": {},
   "outputs": [
    {
     "data": {
      "text/plain": [
       "0    265\n",
       "1    265\n",
       "Name: Outcome, dtype: int64"
      ]
     },
     "execution_count": 1441,
     "metadata": {},
     "output_type": "execute_result"
    }
   ],
   "source": [
    "undersampler = RandomUnderSampler(sampling_strategy=1, random_state=my_random_state)\n",
    "X_mix, y_mix = undersampler.fit_resample(X_mix, y_mix)\n",
    "y_mix.value_counts()"
   ]
  },
  {
   "cell_type": "code",
   "execution_count": 1442,
   "id": "86dca2db",
   "metadata": {},
   "outputs": [
    {
     "name": "stdout",
     "output_type": "stream",
     "text": [
      "Accuracy: 70.64%\n",
      "Precision: 55.81%\n",
      "Recall: 64.86%\n",
      "F1: 60.00%\n"
     ]
    }
   ],
   "source": [
    "dt_model = DecisionTreeClassifier(random_state=my_random_state)\n",
    "dt_model.fit(X_mix, y_mix)\n",
    "\n",
    "y_pred = dt_model.predict(X_val)\n",
    "\n",
    "print('Accuracy: {:.2%}'.format(metrics.accuracy_score(y_val, y_pred)))\n",
    "print('Precision: {:.2%}'.format(metrics.precision_score(y_val, y_pred)))\n",
    "print('Recall: {:.2%}'.format(metrics.recall_score(y_val, y_pred)))\n",
    "print('F1: {:.2%}'.format(metrics.f1_score(y_val, y_pred)))"
   ]
  },
  {
   "cell_type": "code",
   "execution_count": 1443,
   "id": "d1d7b7e1",
   "metadata": {},
   "outputs": [
    {
     "data": {
      "text/plain": [
       "<sklearn.metrics._plot.confusion_matrix.ConfusionMatrixDisplay at 0x28a8bcb50>"
      ]
     },
     "execution_count": 1443,
     "metadata": {},
     "output_type": "execute_result"
    },
    {
     "data": {
      "image/png": "[encoded data removed]",
      "text/plain": [
       "<Figure size 640x480 with 2 Axes>"
      ]
     },
     "metadata": {},
     "output_type": "display_data"
    }
   ],
   "source": [
    "cm = confusion_matrix(y_val, y_pred)                   \n",
    "cm_display = ConfusionMatrixDisplay(cm)\n",
    "cm_display.plot()"
   ]
  },
  {
   "cell_type": "markdown",
   "id": "1a7d5587",
   "metadata": {},
   "source": [
    "### DummyClassifier"
   ]
  },
  {
   "cell_type": "code",
   "execution_count": 1444,
   "id": "30ace1a8",
   "metadata": {},
   "outputs": [],
   "source": [
    "from sklearn.dummy import DummyClassifier"
   ]
  },
  {
   "cell_type": "code",
   "execution_count": 1445,
   "id": "c01e77de",
   "metadata": {},
   "outputs": [
    {
     "name": "stdout",
     "output_type": "stream",
     "text": [
      "Accuracy: 66.06%\n",
      "Precision: 0.00%\n",
      "Recall: 0.00%\n",
      "F1: 0.00%\n"
     ]
    },
    {
     "name": "stderr",
     "output_type": "stream",
     "text": [
      "/Users/julsen/opt/miniconda3/envs/leoenv/lib/python3.10/site-packages/sklearn/metrics/_classification.py:1334: UndefinedMetricWarning: Precision is ill-defined and being set to 0.0 due to no predicted samples. Use `zero_division` parameter to control this behavior.\n",
      "  _warn_prf(average, modifier, msg_start, len(result))\n"
     ]
    }
   ],
   "source": [
    "dummy_model = DummyClassifier(strategy='most_frequent')\n",
    "dummy_model.fit(X_train, y_train)\n",
    "y_pred = dummy_model.predict(X_val)\n",
    "\n",
    "print('Accuracy: {:.2%}'.format(metrics.accuracy_score(y_val, y_pred)))\n",
    "print('Precision: {:.2%}'.format(metrics.precision_score(y_val, y_pred)))\n",
    "print('Recall: {:.2%}'.format(metrics.recall_score(y_val, y_pred)))\n",
    "print('F1: {:.2%}'.format(metrics.f1_score(y_val, y_pred)))"
   ]
  },
  {
   "cell_type": "markdown",
   "id": "371b7344",
   "metadata": {},
   "source": [
    "### DecisionTreeClassifier"
   ]
  },
  {
   "cell_type": "code",
   "execution_count": 1446,
   "id": "b16fbfbb",
   "metadata": {},
   "outputs": [],
   "source": [
    "def train_and_find_best_depth(X_train, X_val, y_train, y_val, do_print):\n",
    "    result = None\n",
    "    accuracy_max = -1\n",
    "    \n",
    "    for curr_max_depth in range(1, 20):\n",
    "        dt_model = DecisionTreeClassifier(max_depth=curr_max_depth, random_state=my_random_state)\n",
    "        dt_model.fit(X_train, y_train)\n",
    "        y_pred = dt_model.predict(X_val)\n",
    "        accuracy_score = metrics.accuracy_score(y_val, y_pred)\n",
    "        if accuracy_score >= accuracy_max:\n",
    "            accuracy_max = accuracy_score\n",
    "            result = curr_max_depth\n",
    "    if do_print:\n",
    "        print('-' * 20)\n",
    "        print('best max depth {} has {:.2%} accuracy.'.format(result, accuracy_max))\n",
    "\n",
    "    return result"
   ]
  },
  {
   "cell_type": "code",
   "execution_count": 1447,
   "id": "4c3db2e7",
   "metadata": {},
   "outputs": [
    {
     "name": "stdout",
     "output_type": "stream",
     "text": [
      "--------------------\n",
      "best max depth 9 has 81.65% accuracy.\n"
     ]
    }
   ],
   "source": [
    "best_max_depth = train_and_find_best_depth(X_train, X_val, y_train, y_val, True)"
   ]
  },
  {
   "cell_type": "code",
   "execution_count": 1448,
   "id": "59d0465c",
   "metadata": {},
   "outputs": [
    {
     "name": "stdout",
     "output_type": "stream",
     "text": [
      "Accuracy: 81.65%\n",
      "Precision: 71.79%\n",
      "Recall: 75.68%\n",
      "F1: 73.68%\n"
     ]
    }
   ],
   "source": [
    "X = diabetes_data[diabetes_data.columns[:-1]]\n",
    "y = diabetes_data['Outcome']\n",
    "\n",
    "dt_model = DecisionTreeClassifier(max_depth=best_max_depth, random_state=my_random_state)\n",
    "dt_model.fit(X_train, y_train)\n",
    "\n",
    "y_pred = dt_model.predict(X_val)\n",
    "\n",
    "print('Accuracy: {:.2%}'.format(metrics.accuracy_score(y_val, y_pred)))\n",
    "print('Precision: {:.2%}'.format(metrics.precision_score(y_val, y_pred)))\n",
    "print('Recall: {:.2%}'.format(metrics.recall_score(y_val, y_pred)))\n",
    "print('F1: {:.2%}'.format(metrics.f1_score(y_val, y_pred)))"
   ]
  },
  {
   "cell_type": "code",
   "execution_count": 1449,
   "id": "8db70f8e",
   "metadata": {},
   "outputs": [
    {
     "data": {
      "text/plain": [
       "<sklearn.metrics._plot.confusion_matrix.ConfusionMatrixDisplay at 0x28a15a2c0>"
      ]
     },
     "execution_count": 1449,
     "metadata": {},
     "output_type": "execute_result"
    },
    {
     "data": {
      "image/png": "[encoded data removed]",
      "text/plain": [
       "<Figure size 640x480 with 2 Axes>"
      ]
     },
     "metadata": {},
     "output_type": "display_data"
    }
   ],
   "source": [
    "cm = confusion_matrix(y_val, y_pred)                   \n",
    "cm_display = ConfusionMatrixDisplay(cm)\n",
    "cm_display.plot()"
   ]
  },
  {
   "cell_type": "markdown",
   "id": "9fd430a2",
   "metadata": {},
   "source": [
    "### RandomForestClassifier"
   ]
  },
  {
   "cell_type": "code",
   "execution_count": 1450,
   "id": "2ae4f769",
   "metadata": {},
   "outputs": [],
   "source": [
    "from sklearn.ensemble import RandomForestClassifier"
   ]
  },
  {
   "cell_type": "code",
   "execution_count": 1451,
   "id": "23bc273e",
   "metadata": {},
   "outputs": [],
   "source": [
    "def train_and_find_best_depth(X_train, X_val, y_train, y_val, do_print):\n",
    "    result = None\n",
    "    recall_max = -1\n",
    "    precision_max = -1\n",
    "    \n",
    "    for curr_max_depth in range(1, 300):\n",
    "        dt_model = RandomForestClassifier(max_depth=curr_max_depth, random_state=my_random_state)\n",
    "        dt_model.fit(X_train, y_train)\n",
    "        y_pred = dt_model.predict(X_val)\n",
    "        recall_score = metrics.recall_score(y_val, y_pred)\n",
    "        precision_score = metrics.precision_score(y_val, y_pred)\n",
    "        if (recall_score >= recall_max) & (precision_score >= precision_max):\n",
    "            recall_max = recall_score\n",
    "            precision_max = precision_score\n",
    "            result = curr_max_depth\n",
    "    if do_print:\n",
    "        print('-' * 20)\n",
    "        print('best max depth {} has {:.2%} recall.'.format(result, recall_max, precision_max))\n",
    "\n",
    "    return result\n",
    "\n",
    "def train_and_find_best_estimators(X_train, X_val, y_train, y_val, best_max_depth, do_print):\n",
    "    result = None\n",
    "    recall_max = -1\n",
    "    precision_max = -1\n",
    "    \n",
    "    for curr_estimators_depth in range(1, 100):\n",
    "        dt_model = RandomForestClassifier(n_estimators= curr_estimators_depth, max_depth= best_max_depth, random_state=my_random_state)\n",
    "        dt_model.fit(X_train, y_train)\n",
    "        y_pred = dt_model.predict(X_val)\n",
    "        recall_score = metrics.recall_score(y_val, y_pred)\n",
    "        precision_score = metrics.precision_score(y_val, y_pred)\n",
    "        if (recall_score >= recall_max) & (precision_score >= precision_max):\n",
    "            recall_max = recall_score\n",
    "            precision_max = precision_score\n",
    "            result = curr_estimators_depth\n",
    "    if do_print:\n",
    "        print('-' * 20)\n",
    "        print('best max estimators {} has {:.2%} recall.'.format(result, recall_max, precision_max))\n",
    "        \n",
    "    return result\n",
    "\n",
    "def train_and_find_best_samples_split(X_train, X_val, y_train, y_val, best_max_depth, best_max_esitmators, do_print):\n",
    "    result = None\n",
    "    recall_max = -1\n",
    "    precision_max = -1\n",
    "    \n",
    "    for curr_samples_split_depth in range(2, 200):\n",
    "        dt_model = RandomForestClassifier(min_samples_split= curr_samples_split_depth, n_estimators= best_max_esitmators, max_depth= best_max_depth, random_state=my_random_state)\n",
    "        dt_model.fit(X_train, y_train)\n",
    "        y_pred = dt_model.predict(X_val)\n",
    "        recall_score = metrics.recall_score(y_val, y_pred)\n",
    "        precision_score = metrics.precision_score(y_val, y_pred)\n",
    "        if (recall_score >= recall_max) & (precision_score >= precision_max):\n",
    "            recall_max = recall_score\n",
    "            precision_max = precision_score\n",
    "            result = curr_samples_split_depth\n",
    "    if do_print:\n",
    "        print('-' * 20)\n",
    "        print('best max sample split {} has {:.2%} recall.'.format(result, recall_max, precision_max))\n",
    "\n",
    "    return result"
   ]
  },
  {
   "cell_type": "code",
   "execution_count": 1452,
   "id": "c2bd59ce",
   "metadata": {
    "scrolled": false
   },
   "outputs": [
    {
     "name": "stdout",
     "output_type": "stream",
     "text": [
      "--------------------\n",
      "best max depth 4 has 89.19% recall.\n"
     ]
    }
   ],
   "source": [
    "best_max_depth = train_and_find_best_depth(X_mix, X_val, y_mix, y_val, True)"
   ]
  },
  {
   "cell_type": "code",
   "execution_count": 1453,
   "id": "b8047e54",
   "metadata": {
    "scrolled": false
   },
   "outputs": [
    {
     "name": "stdout",
     "output_type": "stream",
     "text": [
      "--------------------\n",
      "best max estimators 99 has 89.19% recall.\n"
     ]
    }
   ],
   "source": [
    "best_max_estimators = train_and_find_best_estimators(X_mix, X_val, y_mix, y_val, best_max_depth, True)"
   ]
  },
  {
   "cell_type": "code",
   "execution_count": 1454,
   "id": "27f34598",
   "metadata": {},
   "outputs": [
    {
     "name": "stdout",
     "output_type": "stream",
     "text": [
      "--------------------\n",
      "best max sample split 88 has 89.19% recall.\n"
     ]
    }
   ],
   "source": [
    "best_max_samples_split = train_and_find_best_samples_split(X_mix, X_val, y_mix, y_val, best_max_depth, best_max_estimators, True)"
   ]
  },
  {
   "cell_type": "code",
   "execution_count": 1455,
   "id": "7f861672",
   "metadata": {},
   "outputs": [
    {
     "name": "stdout",
     "output_type": "stream",
     "text": [
      "Accuracy: 78.90%\n",
      "Precision: 63.46%\n",
      "Recall: 89.19%\n",
      "F1: 74.16%\n"
     ]
    }
   ],
   "source": [
    "X = diabetes_data[diabetes_data.columns[:-1]]\n",
    "y = diabetes_data['Outcome']\n",
    "\n",
    "dt_model = RandomForestClassifier(min_samples_split= best_max_samples_split,n_estimators= best_max_estimators, max_depth= best_max_depth, random_state=my_random_state)\n",
    "dt_model.fit(X_mix, y_mix)\n",
    "\n",
    "y_pred = dt_model.predict(X_val)\n",
    "\n",
    "print('Accuracy: {:.2%}'.format(metrics.accuracy_score(y_val, y_pred)))\n",
    "print('Precision: {:.2%}'.format(metrics.precision_score(y_val, y_pred)))\n",
    "print('Recall: {:.2%}'.format(metrics.recall_score(y_val, y_pred)))\n",
    "print('F1: {:.2%}'.format(metrics.f1_score(y_val, y_pred)))"
   ]
  },
  {
   "cell_type": "code",
   "execution_count": 1456,
   "id": "517318af",
   "metadata": {},
   "outputs": [
    {
     "data": {
      "text/plain": [
       "<sklearn.metrics._plot.confusion_matrix.ConfusionMatrixDisplay at 0x28aabc9a0>"
      ]
     },
     "execution_count": 1456,
     "metadata": {},
     "output_type": "execute_result"
    },
    {
     "data": {
      "image/png": "[encoded data removed]",
      "text/plain": [
       "<Figure size 640x480 with 2 Axes>"
      ]
     },
     "metadata": {},
     "output_type": "display_data"
    }
   ],
   "source": [
    "cm = confusion_matrix(y_val, y_pred)                   \n",
    "cm_display = ConfusionMatrixDisplay(cm)\n",
    "cm_display.plot()"
   ]
  },
  {
   "cell_type": "code",
   "execution_count": 1457,
   "id": "d26e0f32",
   "metadata": {},
   "outputs": [
    {
     "name": "stdout",
     "output_type": "stream",
     "text": [
      "Accuracy: 77.06%\n",
      "Precision: 63.27%\n",
      "Recall: 81.58%\n",
      "F1: 71.26%\n"
     ]
    }
   ],
   "source": [
    "y_pred = dt_model.predict(X_test)\n",
    "\n",
    "print('Accuracy: {:.2%}'.format(metrics.accuracy_score(y_test, y_pred)))\n",
    "print('Precision: {:.2%}'.format(metrics.precision_score(y_test, y_pred)))\n",
    "print('Recall: {:.2%}'.format(metrics.recall_score(y_test, y_pred)))\n",
    "print('F1: {:.2%}'.format(metrics.f1_score(y_test, y_pred)))"
   ]
  },
  {
   "cell_type": "code",
   "execution_count": 1458,
   "id": "4effdb1a",
   "metadata": {},
   "outputs": [
    {
     "data": {
      "text/plain": [
       "<sklearn.metrics._plot.confusion_matrix.ConfusionMatrixDisplay at 0x28aa632e0>"
      ]
     },
     "execution_count": 1458,
     "metadata": {},
     "output_type": "execute_result"
    },
    {
     "data": {
      "image/png": "[encoded data removed]",
      "text/plain": [
       "<Figure size 640x480 with 2 Axes>"
      ]
     },
     "metadata": {},
     "output_type": "display_data"
    }
   ],
   "source": [
    "cm = confusion_matrix(y_test, y_pred)                   \n",
    "cm_display = ConfusionMatrixDisplay(cm)\n",
    "cm_display.plot()"
   ]
  }
 ],
 "metadata": {
  "kernelspec": {
   "display_name": "Python 3 (ipykernel)",
   "language": "python",
   "name": "python3"
  },
  "language_info": {
   "codemirror_mode": {
    "name": "ipython",
    "version": 3
   },
   "file_extension": ".py",
   "mimetype": "text/x-python",
   "name": "python",
   "nbconvert_exporter": "python",
   "pygments_lexer": "ipython3",
   "version": "3.10.6"
  }
 },
 "nbformat": 4,
 "nbformat_minor": 5
}
